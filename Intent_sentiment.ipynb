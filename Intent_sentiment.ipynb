{
 "cells": [
  {
   "cell_type": "code",
   "execution_count": 1,
   "id": "f670eec6-4471-4efb-83fb-666bc15f40c5",
   "metadata": {},
   "outputs": [
    {
     "name": "stderr",
     "output_type": "stream",
     "text": [
      "/Users/gaganyadav/anaconda3/envs/deep_learning/lib/python3.12/site-packages/tqdm/auto.py:21: TqdmWarning: IProgress not found. Please update jupyter and ipywidgets. See https://ipywidgets.readthedocs.io/en/stable/user_install.html\n",
      "  from .autonotebook import tqdm as notebook_tqdm\n"
     ]
    }
   ],
   "source": [
    "from transformers import pipeline\n",
    "import json"
   ]
  },
  {
   "cell_type": "markdown",
   "id": "c878afb1-a33c-434f-816b-1eb8432f29a0",
   "metadata": {},
   "source": [
    "# Below Cell may take some time to run"
   ]
  },
  {
   "cell_type": "code",
   "execution_count": 2,
   "id": "6015b42f-228b-4bbb-b190-30f0b1f50d6f",
   "metadata": {},
   "outputs": [
    {
     "name": "stderr",
     "output_type": "stream",
     "text": [
      "Device set to use cpu\n"
     ]
    }
   ],
   "source": [
    "classifier = pipeline(\n",
    "    \"zero-shot-classification\",\n",
    "    model=\"valhalla/distilbart-mnli-12-1\",  \n",
    "    device=-1                             \n",
    ")"
   ]
  },
  {
   "cell_type": "code",
   "execution_count": 3,
   "id": "3f245d61-aa84-4b39-b40e-7347509c2c8f",
   "metadata": {},
   "outputs": [],
   "source": [
    "text = \"It’s not constant, but I do get occasional backaches. It’s nothing like before, though.\""
   ]
  },
  {
   "cell_type": "code",
   "execution_count": 4,
   "id": "979c0ff3-5dc6-4a5f-9809-f84320643595",
   "metadata": {},
   "outputs": [
    {
     "name": "stdout",
     "output_type": "stream",
     "text": [
      "{\n",
      "  \"Sentiment\": \"Reassured\",\n",
      "  \"Intent\": \"Reporting symptoms\"\n",
      "}\n"
     ]
    }
   ],
   "source": [
    "\n",
    "\n",
    "sentiment_labels = [\n",
    "    \"The speaker shows signs of anxiety or worry\",\n",
    "    \"The speaker shows a neutral or calm demeanor\",\n",
    "    \"The speaker shows signs of reassurance, relief, or comfort\"\n",
    "]\n",
    "intent_labels = [\n",
    "    \"The speaker is asking for reassurance or comfort\",\n",
    "    \"The speaker is describing their symptoms or condition\",\n",
    "    \"The speaker is voicing worry about a situation\"\n",
    "]\n",
    "\n",
    "\n",
    "sentiment_result = classifier(text, sentiment_labels)\n",
    "intent_result = classifier(text, intent_labels)\n",
    "\n",
    "predicted_sentiment_desc = sentiment_result[\"labels\"][0]\n",
    "sentiment_confidence = sentiment_result[\"scores\"][0]\n",
    "predicted_intent_desc = intent_result[\"labels\"][0]\n",
    "intent_confidence = intent_result[\"scores\"][0]\n",
    "\n",
    "sentiment_mapping = {\n",
    "    \"The speaker shows signs of anxiety or worry\": \"Anxious\",\n",
    "    \"The speaker shows a neutral or calm demeanor\": \"Neutral\",\n",
    "    \"The speaker shows signs of reassurance, relief, or comfort\": \"Reassured\"\n",
    "}\n",
    "intent_mapping = {\n",
    "    \"The speaker is asking for reassurance or comfort\": \"Seeking reassurance\",\n",
    "    \"The speaker is describing their symptoms or condition\": \"Reporting symptoms\",\n",
    "    \"The speaker is voicing worry about a situation\": \"Expressing concern\"\n",
    "}\n",
    "\n",
    "\n",
    "sentiment = sentiment_mapping.get(predicted_sentiment_desc, \"Unknown\")\n",
    "intent = intent_mapping.get(predicted_intent_desc, \"Unknown\")\n",
    "\n",
    "\n",
    "output = {\n",
    "    \"Sentiment\": sentiment,\n",
    "    \"Intent\": intent,\n",
    "}\n",
    "\n",
    "print(json.dumps(output, indent=2))"
   ]
  },
  {
   "cell_type": "code",
   "execution_count": null,
   "id": "710ac9f1-3070-4f0e-a619-171ef2283fa3",
   "metadata": {},
   "outputs": [],
   "source": []
  }
 ],
 "metadata": {
  "kernelspec": {
   "display_name": "Python 3 (ipykernel)",
   "language": "python",
   "name": "python3"
  },
  "language_info": {
   "codemirror_mode": {
    "name": "ipython",
    "version": 3
   },
   "file_extension": ".py",
   "mimetype": "text/x-python",
   "name": "python",
   "nbconvert_exporter": "python",
   "pygments_lexer": "ipython3",
   "version": "3.12.11"
  }
 },
 "nbformat": 4,
 "nbformat_minor": 5
}
